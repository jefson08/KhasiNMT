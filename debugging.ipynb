{
 "cells": [
  {
   "cell_type": "code",
   "execution_count": 1,
   "id": "a9ef269f",
   "metadata": {},
   "outputs": [],
   "source": [
    "import numpy as np"
   ]
  },
  {
   "cell_type": "code",
   "execution_count": 14,
   "id": "9c468845",
   "metadata": {},
   "outputs": [],
   "source": [
    "src = np.random.randn(2,3,4)"
   ]
  },
  {
   "cell_type": "code",
   "execution_count": 15,
   "id": "97f38031",
   "metadata": {},
   "outputs": [
    {
     "data": {
      "text/plain": [
       "array([[[-0.24073602,  0.29582594, -0.89358431, -1.2500889 ],\n",
       "        [ 0.9674155 , -0.76972606,  1.96793921, -0.37100844],\n",
       "        [-0.09482699, -0.25512067,  0.99940552, -0.61228211]],\n",
       "\n",
       "       [[-0.03388479,  0.23428422,  0.79640154, -1.09156635],\n",
       "        [ 0.92903823,  0.81559569,  1.00159382, -0.02380573],\n",
       "        [-1.07536343, -0.78823233,  0.13152073, -1.63611486]]])"
      ]
     },
     "execution_count": 15,
     "metadata": {},
     "output_type": "execute_result"
    }
   ],
   "source": [
    "src"
   ]
  },
  {
   "cell_type": "code",
   "execution_count": 16,
   "id": "32b0256d",
   "metadata": {},
   "outputs": [
    {
     "data": {
      "text/plain": [
       "array([[[-0.24073602,  0.29582594, -0.89358431, -1.2500889 ],\n",
       "        [ 0.9674155 , -0.76972606,  1.96793921, -0.37100844],\n",
       "        [-0.09482699, -0.25512067,  0.99940552, -0.61228211]],\n",
       "\n",
       "       [[-0.03388479,  0.23428422,  0.79640154, -1.09156635],\n",
       "        [ 0.92903823,  0.81559569,  1.00159382, -0.02380573],\n",
       "        [-1.07536343, -0.78823233,  0.13152073, -1.63611486]]])"
      ]
     },
     "execution_count": 16,
     "metadata": {},
     "output_type": "execute_result"
    }
   ],
   "source": [
    "src"
   ]
  },
  {
   "cell_type": "code",
   "execution_count": 17,
   "id": "622aeade",
   "metadata": {},
   "outputs": [],
   "source": [
    "src=src[:,1:-1]"
   ]
  },
  {
   "cell_type": "code",
   "execution_count": 18,
   "id": "63b35ed0",
   "metadata": {},
   "outputs": [
    {
     "data": {
      "text/plain": [
       "array([[[ 0.9674155 , -0.76972606,  1.96793921, -0.37100844]],\n",
       "\n",
       "       [[ 0.92903823,  0.81559569,  1.00159382, -0.02380573]]])"
      ]
     },
     "execution_count": 18,
     "metadata": {},
     "output_type": "execute_result"
    }
   ],
   "source": [
    "src"
   ]
  },
  {
   "cell_type": "code",
   "execution_count": null,
   "id": "e08aa733",
   "metadata": {},
   "outputs": [],
   "source": []
  }
 ],
 "metadata": {
  "kernelspec": {
   "display_name": "Python 3 (ipykernel)",
   "language": "python",
   "name": "python3"
  },
  "language_info": {
   "codemirror_mode": {
    "name": "ipython",
    "version": 3
   },
   "file_extension": ".py",
   "mimetype": "text/x-python",
   "name": "python",
   "nbconvert_exporter": "python",
   "pygments_lexer": "ipython3",
   "version": "3.9.12"
  }
 },
 "nbformat": 4,
 "nbformat_minor": 5
}
